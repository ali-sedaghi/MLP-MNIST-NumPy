{
  "cells": [
    {
      "cell_type": "markdown",
      "source": [
        "## Imports"
      ],
      "metadata": {
        "collapsed": false,
        "pycharm": {
          "name": "#%% md\n"
        },
        "id": "QPdsB4gKvgbG"
      }
    },
    {
      "cell_type": "code",
      "execution_count": 1,
      "metadata": {
        "collapsed": true,
        "pycharm": {
          "name": "#%%\n"
        },
        "id": "bw5-Ix7xvgbQ"
      },
      "outputs": [],
      "source": [
        "import numpy as np\n",
        "import matplotlib.pyplot as plt\n",
        "np.random.seed(1)"
      ]
    },
    {
      "cell_type": "markdown",
      "source": [
        "## Activation functions"
      ],
      "metadata": {
        "collapsed": false,
        "pycharm": {
          "name": "#%% md\n"
        },
        "id": "bsQizCSSvgbU"
      }
    },
    {
      "cell_type": "code",
      "execution_count": 2,
      "outputs": [],
      "source": [
        "def relu(Z):\n",
        "  # Z as cache\n",
        "  A = np.maximum(0, Z)\n",
        "  return A, Z\n",
        "\n",
        "\n",
        "def relu_backward(dA, cache):\n",
        "  Z = cache\n",
        "  dZ = np.array(dA, copy=True)\n",
        "  dZ[Z <= 0] = 0\n",
        "  return dZ\n",
        "\n",
        "\n",
        "def sigmoid(Z):\n",
        "  # Z as cache\n",
        "  A = 1. / (1 + np.exp(-Z))\n",
        "  return A, Z\n",
        "\n",
        "\n",
        "def sigmoid_backward(dA, cache):\n",
        "  Z = cache\n",
        "  s = 1 / (1 + np.exp(-Z))\n",
        "  dZ = dA * s * (1 - s)\n",
        "  return dZ\n",
        "\n",
        "\n",
        "def softmax(Z):\n",
        "  # Z as cache\n",
        "  Z = Z - np.max(Z, axis=0, keepdims=True)\n",
        "  exponents = np.exp(Z)\n",
        "  A = exponents / np.sum(exponents, axis=0, keepdims=True)\n",
        "  return A, Z\n",
        "\n",
        "\n",
        "def softmax_backward(dA, cache):\n",
        "  Z = cache\n",
        "  s, cache = softmax(Z)\n",
        "  dZ = dA * s * (1 - s)\n",
        "  return dZ"
      ],
      "metadata": {
        "pycharm": {
          "name": "#%%\n"
        },
        "id": "tniZtCdXvgbX"
      }
    },
    {
      "cell_type": "markdown",
      "source": [
        "## Cost and Accuracy functions"
      ],
      "metadata": {
        "collapsed": false,
        "pycharm": {
          "name": "#%% md\n"
        },
        "id": "EF-dcBRCvgbZ"
      }
    },
    {
      "cell_type": "code",
      "execution_count": 3,
      "outputs": [],
      "source": [
        "def cee(y_predict, y):\n",
        "  classes, m = y.shape\n",
        "  loss = -1 * (y * np.log(y_predict) + (1 - y) * np.log(1 - y_predict))\n",
        "  cost = (1 / m) * np.sum(loss)\n",
        "  return loss, cost\n",
        "\n",
        "\n",
        "def classify(y):\n",
        "  # y shape : (classes, m)\n",
        "  classes, m = y.shape\n",
        "\n",
        "  # Binary classification\n",
        "  if classes == 1:\n",
        "    return np.greater_equal(y, 0.5, casting='same_kind')\n",
        "\n",
        "  # Multiclass classification\n",
        "  else:\n",
        "    return np.argmax(y, axis=0)\n",
        "\n",
        "\n",
        "def compute_accuracy(y_predict, y_real):\n",
        "  # y shape : (classes, m)\n",
        "  classes, m = y_real.shape\n",
        "\n",
        "  if classes == 1:\n",
        "    accuracy = 100 - np.mean(np.abs(y_predict - y_real)) * 100\n",
        "\n",
        "  else:\n",
        "    y_predict_classified = classify(y_predict)\n",
        "    y_real_classified = classify(y_real)\n",
        "    num_equals = np.sum(y_predict_classified == y_real_classified)\n",
        "    accuracy = num_equals / m\n",
        "\n",
        "  return accuracy"
      ],
      "metadata": {
        "pycharm": {
          "name": "#%%\n"
        },
        "id": "2A91eWVGvgbb"
      }
    },
    {
      "cell_type": "markdown",
      "source": [
        "## MLP"
      ],
      "metadata": {
        "collapsed": false,
        "pycharm": {
          "name": "#%% md\n"
        },
        "id": "RMjYmuNEvgbd"
      }
    },
    {
      "cell_type": "markdown",
      "source": [
        "### Initialize parameters"
      ],
      "metadata": {
        "collapsed": false,
        "pycharm": {
          "name": "#%% md\n"
        },
        "id": "eexdvgwDvgbf"
      }
    },
    {
      "cell_type": "code",
      "execution_count": 4,
      "outputs": [],
      "source": [
        "# Initialize w and b to small random values for every layer\n",
        "def init_params(layers_dims):\n",
        "  parameters = {}\n",
        "  for l in range(1, len(layers_dims)):\n",
        "    parameters['W' + str(l)] = np.random.randn(layers_dims[l], layers_dims[l-1]) * 0.01\n",
        "    parameters['b' + str(l)] = np.random.randn(layers_dims[l], 1) * 0.01\n",
        "  return parameters"
      ],
      "metadata": {
        "pycharm": {
          "name": "#%%\n"
        },
        "id": "P71cySAjvgbh"
      }
    },
    {
      "cell_type": "markdown",
      "source": [
        "### Forward propagation"
      ],
      "metadata": {
        "collapsed": false,
        "pycharm": {
          "name": "#%% md\n"
        },
        "id": "37imH42zvgbk"
      }
    },
    {
      "cell_type": "code",
      "execution_count": 5,
      "outputs": [],
      "source": [
        "# W: Weights of layer L\n",
        "# B: Bias term of layer L\n",
        "# A: Activated values from layer L-1\n",
        "# activation: Activation function of layer L\n",
        "\n",
        "# Linear forward to calculate Z = WA + B\n",
        "def linear_forward(A, W, b):\n",
        "  Z = np.dot(W, A) + b\n",
        "  cache = (A, W, b)\n",
        "  return Z, cache\n",
        "\n",
        "\n",
        "# Activation forward after linear forward\n",
        "def linear_activation_forward(A, W, b, activation):\n",
        "  Z, linear_cache = linear_forward(A, W, b)\n",
        "  activation_cache = None\n",
        "  if activation == 'relu':\n",
        "    A, activation_cache = relu(Z)\n",
        "  elif activation == 'sigmoid':\n",
        "    A, activation_cache = sigmoid(Z)\n",
        "  elif activation == 'softmax':\n",
        "    A, activation_cache = softmax(Z)\n",
        "  cache = (linear_cache, activation_cache)\n",
        "  return A, cache\n",
        "\n",
        "\n",
        "# Forward propagation from layer 1 to L\n",
        "def forward_propagate(X, parameters):\n",
        "  caches = []\n",
        "  L = len(parameters) // 2\n",
        "  A = X\n",
        "  # Layers 0->L-1 Relu forward propagation\n",
        "  for l in range(1, L):\n",
        "    W = parameters['W' + str(l)]\n",
        "    b = parameters['b' + str(l)]\n",
        "    A, cache = linear_activation_forward(A, W, b, 'relu')\n",
        "    caches.append(cache)\n",
        "\n",
        "  # Layer L Sigmoid or Softmax forward propagation\n",
        "  W = parameters['W' + str(L)]\n",
        "  b = parameters['b' + str(L)]\n",
        "\n",
        "  # Binary classification\n",
        "  if W.shape[0] == 1:\n",
        "    A, cache = linear_activation_forward(A, W, b, 'sigmoid')\n",
        "\n",
        "  # Multiclass classification\n",
        "  else:\n",
        "    A, cache = linear_activation_forward(A, W, b, 'softmax')\n",
        "\n",
        "  caches.append(cache)\n",
        "  return A, caches"
      ],
      "metadata": {
        "pycharm": {
          "name": "#%%\n"
        },
        "id": "KkiiSuB0vgbm"
      }
    },
    {
      "cell_type": "markdown",
      "source": [
        "### Backward propagation"
      ],
      "metadata": {
        "collapsed": false,
        "pycharm": {
          "name": "#%% md\n"
        },
        "id": "3SH7Wh6Jvgbo"
      }
    },
    {
      "cell_type": "code",
      "execution_count": 6,
      "outputs": [],
      "source": [
        "# dA: derivative of loss with respect of activation\n",
        "# dZ: derivative of loss with respect of Z\n",
        "# dW: derivative of loss with respect of W\n",
        "# dB: derivative of loss with respect of B\n",
        "\n",
        "# Computes dW and db\n",
        "def linear_backward(dZ, cache):\n",
        "  A_prev, W, b = cache\n",
        "  m = A_prev.shape[1]\n",
        "  dW = np.dot(dZ, cache[0].T) / m\n",
        "  db = np.sum(dZ, axis=1, keepdims=True) / m\n",
        "  dA_prev = np.dot(cache[1].T, dZ)\n",
        "  return dA_prev, dW, db\n",
        "\n",
        "\n",
        "# Computes dZ\n",
        "def linear_activation_backward(dA, cache, activation):\n",
        "  linear_cache, activation_cache = cache\n",
        "  dZ = None\n",
        "  if activation == 'relu':\n",
        "    dZ = relu_backward(dA, activation_cache)\n",
        "  elif activation == 'sigmoid':\n",
        "    dZ = sigmoid_backward(dA, activation_cache)\n",
        "  elif activation == 'softmax':\n",
        "    dZ = softmax_backward(dA, activation_cache)\n",
        "\n",
        "  dA_prev, dW, db = linear_backward(dZ, linear_cache)\n",
        "  return dA_prev, dW, db\n",
        "\n",
        "\n",
        "# Backward propagation from layer L to 1\n",
        "def backward_propagate(A_last, Y, caches):\n",
        "  grads = {}\n",
        "  L = len(caches)\n",
        "\n",
        "  # Backpropagation for last layer L : sigmoid or softmax\n",
        "  # CEE derivative\n",
        "  current_cache = caches[-1]\n",
        "  dA_last = - (np.divide(Y, A_last) - np.divide(1 - Y, 1 - A_last))\n",
        "\n",
        "  # Binary classification\n",
        "  if Y.shape[0] == 1:\n",
        "    dA_prev_temp, dW_temp, db_temp = linear_activation_backward(\n",
        "      dA_last,\n",
        "      current_cache,\n",
        "      activation=\"sigmoid\"\n",
        "    )\n",
        "\n",
        "  # Multiclass classification\n",
        "  else:\n",
        "    dA_prev_temp, dW_temp, db_temp = linear_activation_backward(\n",
        "      dA_last,\n",
        "      current_cache,\n",
        "      activation=\"softmax\"\n",
        "    )\n",
        "\n",
        "  grads[\"dA\" + str(L)] = dA_prev_temp\n",
        "  grads[\"dW\" + str(L)] = dW_temp\n",
        "  grads[\"db\" + str(L)] = db_temp\n",
        "\n",
        "  # Backpropagation for layer L-1 to 1 : relu\n",
        "  for l in reversed(range(L-1)):\n",
        "    current_cache = caches[l]\n",
        "    dA = grads[\"dA\" + str(l + 2)]\n",
        "    dA_prev_temp, dW_temp, db_temp = linear_activation_backward(\n",
        "        dA,\n",
        "        current_cache,\n",
        "        activation=\"relu\"\n",
        "    )\n",
        "    grads[\"dA\" + str(l + 1)] = dA_prev_temp\n",
        "    grads[\"dW\" + str(l + 1)] = dW_temp\n",
        "    grads[\"db\" + str(l + 1)] = db_temp\n",
        "\n",
        "  return grads"
      ],
      "metadata": {
        "pycharm": {
          "name": "#%%\n"
        },
        "id": "J7ypv2psvgbp"
      }
    },
    {
      "cell_type": "markdown",
      "source": [
        "### Update parameters"
      ],
      "metadata": {
        "collapsed": false,
        "pycharm": {
          "name": "#%% md\n"
        },
        "id": "0sIbDk9Ivgbr"
      }
    },
    {
      "cell_type": "code",
      "execution_count": 7,
      "outputs": [],
      "source": [
        "def update_parameters(parameters, gradients, learning_rate):\n",
        "  L = len(parameters) // 2\n",
        "\n",
        "  for l in range(L):\n",
        "    W = parameters['W' + str(l+1)]\n",
        "    dW = gradients['dW' + str(l+1)]\n",
        "    parameters['W' + str(l+1)] = W - learning_rate * dW\n",
        "\n",
        "    b = parameters['b' + str(l+1)]\n",
        "    db = gradients['db' + str(l+1)]\n",
        "    parameters['b' + str(l+1)] = b - learning_rate * db\n",
        "\n",
        "  return parameters"
      ],
      "metadata": {
        "pycharm": {
          "name": "#%%\n"
        },
        "id": "usfYcmW6vgbr"
      }
    },
    {
      "cell_type": "markdown",
      "source": [
        "### Model Wrapper"
      ],
      "metadata": {
        "collapsed": false,
        "pycharm": {
          "name": "#%% md\n"
        },
        "id": "qhZ25nHnvgbs"
      }
    },
    {
      "cell_type": "code",
      "execution_count": 8,
      "outputs": [],
      "source": [
        "def model(X, Y, layers_dims, iterations, learning_rate, iter_log):\n",
        "  # Init parameters\n",
        "  parameters = init_params(layers_dims)\n",
        "  costs = []\n",
        "  accuracies = []\n",
        "\n",
        "  for i in range(iterations):\n",
        "    # Forward propagation\n",
        "    A_last, caches = forward_propagate(X, parameters)\n",
        "\n",
        "    # Cost and Accuracy\n",
        "    loss, cost = cee(A_last, Y)\n",
        "    costs.append(cost)\n",
        "    accuracy = compute_accuracy(A_last, Y)\n",
        "    accuracies.append(accuracy)\n",
        "\n",
        "    # Backward propagation\n",
        "    gradients = backward_propagate(A_last, Y, caches)\n",
        "\n",
        "    # Update parameters\n",
        "    parameters = update_parameters(parameters, gradients, learning_rate)\n",
        "\n",
        "    # Print cost and accuracy\n",
        "    if (not iter_log == 0) and (i % iter_log == 0 or i == iterations - 1):\n",
        "      print('Iteration:', i, '  cost:', cost, ' accuracy:', accuracy)\n",
        "\n",
        "  report = {\n",
        "    'costs': costs,\n",
        "    'accuracies': accuracies\n",
        "  }\n",
        "\n",
        "  return parameters, report"
      ],
      "metadata": {
        "pycharm": {
          "name": "#%%\n"
        },
        "id": "7JcWj6R7vgbs"
      }
    },
    {
      "cell_type": "markdown",
      "source": [
        "## MNIST dataset"
      ],
      "metadata": {
        "collapsed": false,
        "pycharm": {
          "name": "#%% md\n"
        },
        "id": "h2QyS1cGvgbt"
      }
    },
    {
      "cell_type": "code",
      "execution_count": 9,
      "outputs": [
        {
          "output_type": "stream",
          "name": "stdout",
          "text": [
            "Downloading data from https://storage.googleapis.com/tensorflow/tf-keras-datasets/mnist.npz\n",
            "11493376/11490434 [==============================] - 0s 0us/step\n",
            "11501568/11490434 [==============================] - 0s 0us/step\n"
          ]
        }
      ],
      "source": [
        "from keras.datasets import mnist\n",
        "from keras.utils import np_utils\n",
        "(x_train, y_train), (x_test, y_test) = mnist.load_data()\n",
        "\n",
        "# Global constants\n",
        "N_CLASS = 10\n",
        "N_TRAIN, HEIGHT, WIDTH = x_train.shape\n",
        "N_TEST = x_test.shape[0]\n",
        "\n",
        "# Data preprocessing\n",
        "x_train_flatten = x_train.reshape(N_TRAIN, -1).T\n",
        "y_train_flatten = y_train.reshape(N_TRAIN, -1)\n",
        "x_test_flatten = x_test.reshape(N_TEST, -1).T\n",
        "y_test_flatten = y_test.reshape(N_TEST, -1)\n",
        "\n",
        "# Normalize data\n",
        "X_train = x_train_flatten.astype('float32') / 255\n",
        "X_test = x_test_flatten.astype('float32') / 255\n",
        "\n",
        "# Categorize output into 10 classes\n",
        "Y_train = np_utils.to_categorical(y_train_flatten, N_CLASS).T\n",
        "Y_test = np_utils.to_categorical(y_test_flatten, N_CLASS).T"
      ],
      "metadata": {
        "pycharm": {
          "name": "#%%\n"
        },
        "colab": {
          "base_uri": "https://localhost:8080/"
        },
        "id": "4HQhvP6nvgbu",
        "outputId": "df34032d-9e97-48a8-c767-f22ee71b40f7"
      }
    },
    {
      "cell_type": "markdown",
      "source": [
        "## Training"
      ],
      "metadata": {
        "collapsed": false,
        "pycharm": {
          "name": "#%% md\n"
        },
        "id": "GsfoyS6xvgbv"
      }
    },
    {
      "cell_type": "code",
      "execution_count": 10,
      "outputs": [
        {
          "output_type": "stream",
          "name": "stdout",
          "text": [
            "Iteration: 0   cost: 3.2510637132615043  accuracy: 0.11248333333333334\n",
            "Iteration: 100   cost: 0.8482762253793048  accuracy: 0.86915\n",
            "Iteration: 200   cost: 0.6089510562549985  accuracy: 0.8989666666666667\n",
            "Iteration: 300   cost: 0.535298883941973  accuracy: 0.90965\n",
            "Iteration: 400   cost: 0.4913927931700998  accuracy: 0.91685\n",
            "Iteration: 500   cost: 0.45700082029586453  accuracy: 0.9230166666666667\n",
            "Iteration: 600   cost: 0.42718158939433915  accuracy: 0.9281\n",
            "Iteration: 700   cost: 0.40052818537466717  accuracy: 0.9331833333333334\n",
            "Iteration: 800   cost: 0.3765940311793345  accuracy: 0.9377\n",
            "Iteration: 900   cost: 0.35504553459837607  accuracy: 0.9414333333333333\n",
            "Iteration: 1000   cost: 0.3357156621789942  accuracy: 0.9450833333333334\n",
            "Iteration: 1100   cost: 0.31812838855888714  accuracy: 0.94835\n",
            "Iteration: 1200   cost: 0.30210184425523234  accuracy: 0.9509833333333333\n",
            "Iteration: 1300   cost: 0.28740521467575814  accuracy: 0.9537833333333333\n",
            "Iteration: 1400   cost: 0.27385218013967055  accuracy: 0.9557833333333333\n",
            "Iteration: 1500   cost: 0.2613740838930887  accuracy: 0.9578666666666666\n",
            "Iteration: 1600   cost: 0.24992802630333322  accuracy: 0.9596666666666667\n",
            "Iteration: 1700   cost: 0.23935867712622755  accuracy: 0.96155\n",
            "Iteration: 1800   cost: 0.22957031305836395  accuracy: 0.9635\n",
            "Iteration: 1900   cost: 0.22051295982332708  accuracy: 0.96525\n",
            "Iteration: 1999   cost: 0.21219164637917895  accuracy: 0.9665666666666667\n"
          ]
        }
      ],
      "source": [
        "N_FEATURE = WIDTH * HEIGHT\n",
        "N_HIDDEN = 128\n",
        "N_CLASS = 10\n",
        "LAYERS = [N_FEATURE, N_HIDDEN, N_CLASS]\n",
        "N_EPOCH = 2000\n",
        "LEARNING_RATE = 0.2\n",
        "REPORT_MOD = 100\n",
        "\n",
        "parameters, report = model(X_train, Y_train, LAYERS, N_EPOCH, LEARNING_RATE, REPORT_MOD)"
      ],
      "metadata": {
        "pycharm": {
          "name": "#%%\n"
        },
        "colab": {
          "base_uri": "https://localhost:8080/"
        },
        "id": "S_CTg_fhvgbx",
        "outputId": "8925975b-12cf-4527-8419-3f60978c5ee6"
      }
    },
    {
      "cell_type": "markdown",
      "source": [
        "## Results"
      ],
      "metadata": {
        "collapsed": false,
        "pycharm": {
          "name": "#%% md\n"
        },
        "id": "ClddlyuEvgb1"
      }
    },
    {
      "cell_type": "code",
      "execution_count": 11,
      "outputs": [
        {
          "output_type": "display_data",
          "data": {
            "text/plain": [
              "<Figure size 432x288 with 1 Axes>"
            ],
            "image/png": "[encoded data removed]"
          },
          "metadata": {
            "needs_background": "light"
          }
        }
      ],
      "source": [
        "# Accuracy plot\n",
        "plt.plot(report['accuracies'])\n",
        "plt.title('Model accuracy')\n",
        "plt.ylabel('accuracy')\n",
        "plt.xlabel('iteration')\n",
        "plt.show()"
      ],
      "metadata": {
        "pycharm": {
          "name": "#%%\n"
        },
        "colab": {
          "base_uri": "https://localhost:8080/",
          "height": 295
        },
        "id": "cJXUm7J6vgb2",
        "outputId": "d52ca06e-c329-4aea-aeef-fe6f2f555e83"
      }
    },
    {
      "cell_type": "code",
      "execution_count": 12,
      "outputs": [
        {
          "output_type": "display_data",
          "data": {
            "text/plain": [
              "<Figure size 432x288 with 1 Axes>"
            ],
            "image/png": "[encoded data removed]"
          },
          "metadata": {
            "needs_background": "light"
          }
        }
      ],
      "source": [
        "# Cost plot\n",
        "plt.plot(report['costs'])\n",
        "plt.title('Model cost')\n",
        "plt.ylabel('cost')\n",
        "plt.xlabel('iteration')\n",
        "plt.show()"
      ],
      "metadata": {
        "pycharm": {
          "name": "#%%\n"
        },
        "colab": {
          "base_uri": "https://localhost:8080/",
          "height": 295
        },
        "id": "kGT11IlNvgb4",
        "outputId": "7d94043a-30e3-4253-bf36-3c277248b5e2"
      }
    },
    {
      "cell_type": "markdown",
      "source": [
        "## Evaluation"
      ],
      "metadata": {
        "collapsed": false,
        "pycharm": {
          "name": "#%% md\n"
        },
        "id": "DQV1DuSwvgb6"
      }
    },
    {
      "cell_type": "code",
      "execution_count": 13,
      "outputs": [
        {
          "output_type": "stream",
          "name": "stdout",
          "text": [
            "Accuracy on test dataset: 0.9621\n",
            "Cost on test dataset: 0.22708709111112546\n"
          ]
        }
      ],
      "source": [
        "y_predict, cache = forward_propagate(X_test, parameters)\n",
        "test_accuracy = compute_accuracy(y_predict, Y_test)\n",
        "loss, test_cost = cee(y_predict, Y_test)\n",
        "print('Accuracy on test dataset:', test_accuracy)\n",
        "print('Cost on test dataset:', test_cost)"
      ],
      "metadata": {
        "pycharm": {
          "name": "#%%\n"
        },
        "colab": {
          "base_uri": "https://localhost:8080/"
        },
        "id": "sNVyR203vgb6",
        "outputId": "925582db-b10e-4522-8fc9-491a4f94793f"
      }
    }
  ],
  "metadata": {
    "kernelspec": {
      "display_name": "Python 3",
      "language": "python",
      "name": "python3"
    },
    "language_info": {
      "codemirror_mode": {
        "name": "ipython",
        "version": 2
      },
      "file_extension": ".py",
      "mimetype": "text/x-python",
      "name": "python",
      "nbconvert_exporter": "python",
      "pygments_lexer": "ipython2",
      "version": "2.7.6"
    },
    "colab": {
      "provenance": []
    },
    "accelerator": "GPU"
  },
  "nbformat": 4,
  "nbformat_minor": 0
}